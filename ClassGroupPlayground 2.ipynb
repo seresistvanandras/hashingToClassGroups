{
 "cells": [
  {
   "cell_type": "code",
   "execution_count": 96,
   "id": "711d32cd",
   "metadata": {},
   "outputs": [],
   "source": [
    "import unittest\n",
    "import numpy as np\n",
    "import matplotlib as mpl\n",
    "import matplotlib.pyplot as plt\n",
    "import matplotlib.colors as mcolors\n",
    "from random import randint\n",
    "from tqdm import tqdm\n",
    "from scipy.stats import entropy\n",
    "import math\n",
    "from collections import Counter\n",
    "import pandas as pd\n",
    "import hashlib\n",
    "import libnum\n",
    "import array, random\n",
    "from classgroup import *\n",
    "from classgroup_helper import *\n",
    "import math\n",
    "import random\n",
    "from decimal import Decimal\n",
    "import sympy\n",
    "import time\n",
    "import json\n",
    "from scipy.stats import chisquare\n",
    "from matplotlib.colors import ListedColormap\n",
    "from sklearn.linear_model import LinearRegression"
   ]
  },
  {
   "cell_type": "code",
   "execution_count": 2,
   "id": "80118f39",
   "metadata": {},
   "outputs": [],
   "source": [
    "## this code is taken from here: https://github.com/coinstudent2048/bquadform\n",
    "\n",
    "# Miscellaneous utilities for bquadform.py\n",
    "#\n",
    "# Use this code only for prototyping\n",
    "\n",
    "# integer square root (floor)\n",
    "# reference: Algorithm 1.7.1 (p.38) of Cohen -\n",
    "# \"A Course in Computational Algebraic Number theory\" (GTM 138)\n",
    "def isqrt(n):\n",
    "    if not isinstance(n, int):\n",
    "        raise TypeError(\"input is not integer\")\n",
    "    if n < 0:\n",
    "        raise ValueError(\"input is negative\")\n",
    "    if n == 0:\n",
    "        return 0\n",
    "    # [Initialize]\n",
    "    x = 1 << (n.bit_length() + 2 >> 1)\n",
    "    while True:\n",
    "        # [Newtonian step]\n",
    "        y = (x + n // x) >> 1\n",
    "        # [Finished?]\n",
    "        if y >= x:\n",
    "            return x\n",
    "        x = y\n",
    "\n",
    "# # integer square root (ceiling)\n",
    "# def isqrt_ceil(n):\n",
    "#     if n == 0:\n",
    "#         return 0\n",
    "#     else:\n",
    "#         return 1 + isqrt(n - 1)\n",
    "\n",
    "# Euclidean division: always ensures that\n",
    "# 0 <= r < |b| regardless of sign of divisor\n",
    "def divmod_euclid(a, b):\n",
    "    q, r = divmod(a, b)   # divmod uses floor division\n",
    "    if r < 0:\n",
    "        q += 1\n",
    "        r -= b\n",
    "    return (q, r)\n",
    "\n",
    "# extended Euclidean algorithm (assumes a >= 0 & b >= 0)\n",
    "# reference: Algorithm 1.3.6 (p.16) of Cohen -\n",
    "# \"A Course in Computational Algebraic Number theory\" (GTM 138)\n",
    "def ext_euclid(a, b, u=1, v1=0):\n",
    "    # [Initialize]\n",
    "    d = a\n",
    "    # v to be computed in ext_euclid_front()\n",
    "    if b == 0:\n",
    "        return (u, d)\n",
    "    v3 = b\n",
    "    # [Finished?]\n",
    "    while v3 != 0:\n",
    "        # [Euclidean step]\n",
    "        q, t3 = divmod(d, v3)\n",
    "        t1 = u - q * v1\n",
    "        u = v1\n",
    "        d = v3\n",
    "        v1 = t1\n",
    "        v3 = t3\n",
    "    # [Finished?] cont. moved to ext_euclid_front()\n",
    "    return (u, d)\n",
    "\n",
    "# extended partial Euclidean algorithm\n",
    "# reference: Sub-algorithm PARTEUCL(a, b) (p. 248) of Cohen -\n",
    "# \"A Course in Computational Algebraic Number theory\" (GTM 138)\n",
    "def part_euclid(d, v3, v, v2, L):\n",
    "    # [Initialize]\n",
    "    z = 0\n",
    "    # [Finished?]\n",
    "    while abs(v3) > L:\n",
    "        # [Euclidean step]\n",
    "        q, t3 = divmod_euclid(d, v3)\n",
    "        t2 = v - q * v2\n",
    "        v = v2\n",
    "        d = v3\n",
    "        v2 = t2\n",
    "        v3 = t3\n",
    "        z += 1\n",
    "    # [Finished?] cont. moved to part_euclid_front()\n",
    "    return (v, d, v2, v3, z)\n",
    "\n",
    "# most significant digit of a, and the value of b in same place\n",
    "# in base M (assumes a >= b, a >= 0, and b >= 0)\n",
    "def same_msd(a, b, M):\n",
    "    while a >= M:\n",
    "        a //= M\n",
    "        b //= M\n",
    "    return a, b\n",
    "\n",
    "# Lehmer extended (assumes a >= b, a >= 0, and b >= 0)\n",
    "# reference: Algorithm 1.3.7 (p. 17) of Cohen -\n",
    "# \"A Course in Computational Algebraic Number theory\" (GTM 138)\n",
    "def lehmer(a, b, M):\n",
    "    # [Initialize]\n",
    "    u = 1\n",
    "    v1 = 0\n",
    "    # [Finished?]\n",
    "    while b >= M:\n",
    "        a_hat, b_hat = same_msd(a, b, M)\n",
    "        A = 1\n",
    "        B = 0\n",
    "        C = 0\n",
    "        D = 1\n",
    "        # [Test quotient]\n",
    "        while not (b_hat + C == 0 or b_hat + D == 0):\n",
    "            q = (a_hat + A) // (b_hat + C)\n",
    "            if q != ((a_hat + B) // (b_hat + D)):\n",
    "                break\n",
    "            # [Euclidean step]\n",
    "            T = A - q * C\n",
    "            A = C\n",
    "            C = T\n",
    "            T = B - q * D\n",
    "            B = D\n",
    "            D = T\n",
    "            T = a_hat - q * b_hat\n",
    "            a_hat = b_hat\n",
    "            b_hat = T\n",
    "        # [Multi-precision step]\n",
    "        if B == 0:\n",
    "            q, t = divmod(a, b)\n",
    "            a = b\n",
    "            b = t\n",
    "            t = u - q * v1\n",
    "            u = v1\n",
    "            v1 = t\n",
    "        else:\n",
    "            t = A * a + B * b\n",
    "            r = C * a + D * b\n",
    "            a = t\n",
    "            b = r\n",
    "            t = A * u + B * v1\n",
    "            r = C * u + D * v1\n",
    "            u = t\n",
    "            v1 = r\n",
    "    return a, b, u, v1\n",
    "\n",
    "# \"frontend\" for extended Euclidean algorithm\n",
    "def ext_euclid_front(a, b, use_lehmer=True, M=(1 << 32)):\n",
    "    # init: the algorithms assume that a >= 0 & b >= 0\n",
    "    orig_a = a\n",
    "    orig_b = b\n",
    "    if orig_a < 0:\n",
    "        a = -a\n",
    "    if orig_b < 0:\n",
    "        b = -b\n",
    "    # execute algorithms\n",
    "    if use_lehmer and a < b:\n",
    "        at = a\n",
    "        bt = b\n",
    "        b, a, u, v1 = lehmer(b, a, M)\n",
    "        u, d = ext_euclid(b, a, u, v1)\n",
    "        v = u\n",
    "        u = (d - bt * v) // at   # [Finished?] cont. of Euclid Extended\n",
    "    elif use_lehmer:\n",
    "        at = a\n",
    "        bt = b\n",
    "        a, b, u, v1 = lehmer(a, b, M)\n",
    "        u, d = ext_euclid(a, b, u, v1)\n",
    "        v = (d - at * u) // bt   # [Finished?] cont. of Euclid Extended\n",
    "    else:\n",
    "        u, d = ext_euclid(a, b)\n",
    "        v = (d - a * u) // b   # [Finished?] cont. of Euclid Extended\n",
    "    # final: check sign of orig a & b\n",
    "    if orig_a < 0:\n",
    "        a = -a\n",
    "        u = -u\n",
    "    if b < 0:\n",
    "        b = -b\n",
    "        v = -v\n",
    "    return (u, v, d)\n",
    "\n",
    "# \"frontend\" for extended partial Euclidean algorithm\n",
    "def part_euclid_front(d, v3, v, v2, L):   # TODO: use_lehmer=True, M=(1 << 32)\n",
    "    # execute algorithms\n",
    "    v, d, v2, v3, z = part_euclid(d, v3, v, v2, L)\n",
    "    # final: [Finished?] cont. of PARTEUCL\n",
    "    if z % 2 == 1:\n",
    "        v2 = -v2\n",
    "        v3 = -v3\n",
    "    return (v, d, v2, v3, z)"
   ]
  },
  {
   "cell_type": "code",
   "execution_count": 3,
   "id": "3ecf0fe2",
   "metadata": {},
   "outputs": [],
   "source": [
    "class BQuadForm:\n",
    "    def __init__(self, a, b, c=None, disc=None):\n",
    "        if (c == None and disc == None) or (c != None and disc != None):\n",
    "            raise AttributeError(\"invalid arguments\")\n",
    "        if not (isinstance(a, int) and isinstance(b, int)):\n",
    "            raise TypeError(\"'a' or 'b' is not integer\")\n",
    "        # optional: check if a < 0 to detect non-positive-definiteness\n",
    "\n",
    "        if c != None:\n",
    "            if not isinstance(c, int):\n",
    "                raise TypeError(\"'c' is not integer\")\n",
    "            # c is given, so compute discriminant\n",
    "            disc = b * b - ((a * c) << 2)\n",
    "            if disc >= 0:\n",
    "                raise ValueError(\"non-negative discriminant\")\n",
    "\n",
    "        elif disc != None:\n",
    "            if not isinstance(disc, int):\n",
    "                raise TypeError(\"'disc' is not integer\")\n",
    "            if disc >= 0:\n",
    "                raise ValueError(\"non-negative discriminant\")\n",
    "            # disc is given, so compute c\n",
    "            c, c_test = divmod(b * b - disc, a << 2)   # a is assumed positive\n",
    "            if c_test != 0:\n",
    "                raise TypeError(\"'c' is not integer\")\n",
    "\n",
    "        # optional: check if gcd(a, b, c) != 1 to detect non-primitiveness\n",
    "        self.a = a\n",
    "        self.b = b\n",
    "        self.c = c\n",
    "        self.disc = disc\n",
    "        self.L = isqrt(isqrt(abs(disc) >> 2))   # 4th root of |disc/4|\n",
    "        # only work with reduced forms\n",
    "        self.__reduction()\n",
    "\n",
    "    # reduction of positive definite forms\n",
    "    # reference: Algorithm 5.4.2 (p.243) of Cohen -\n",
    "    # \"A Course in Computational Algebraic Number theory\" (GTM 138)\n",
    "    def __reduction(self):\n",
    "        # [Initialize]: if -a < b <= a goto [Finished?]\n",
    "        if -self.a < self.b and self.b <= self.a:\n",
    "            self.__reduction_finished()\n",
    "            return\n",
    "        self.__reduction_euclidean()\n",
    "        self.__reduction_finished()\n",
    "\n",
    "    # [Euclidean step] in reduction of positive definite forms\n",
    "    def __reduction_euclidean(self):\n",
    "        # let b = 2aq + r with 0 <= r < 2a be the Euclidean division of b by 2a\n",
    "        q, r = divmod_euclid(self.b, self.a << 1)\n",
    "        # if r > a, set r = r - 2a, q = q + 1 (i.e. we want b = 2aq + r, where -a < r <= a)\n",
    "        if r > self.a:\n",
    "            r -= self.a << 1\n",
    "            q += 1\n",
    "        # then set c = c - (1/2)(b + r)q, b = r\n",
    "        self.c -= ((self.b + r) * q) >> 1\n",
    "        self.b = r\n",
    "\n",
    "    # [Finished?] in reduction of positive definite forms\n",
    "    def __reduction_finished(self):\n",
    "        while not self.isReduced():\n",
    "            # if a > c set b = -b, exchange a and c and goto [Euclidean step]\n",
    "            if self.a > self.c:\n",
    "                self.b = -self.b\n",
    "                self.a, self.c = self.c, self.a\n",
    "                self.__reduction_euclidean()\n",
    "            # otherwise, if a = c and b < 0, set b = -b\n",
    "            elif self.a == self.c and self.b < 0:\n",
    "                self.b = -self.b\n",
    "\n",
    "    # check if the positive definite form is reduced\n",
    "    # reference: Definition 5.3.2 (p.231) of Cohen -\n",
    "    # \"A Course in Computational Algebraic Number theory\" (GTM 138)\n",
    "    def isReduced(self):\n",
    "        abs_b = abs(self.b)\n",
    "        # |b| < a < c\n",
    "        if abs_b < self.a and self.a < self.c:\n",
    "            return True\n",
    "        # |b| = a and b >= 0\n",
    "        if abs_b == self.a and self.b >= 0:\n",
    "            return True\n",
    "        # a = c and b >= 0\n",
    "        if self.a == self.c and self.b >= 0:\n",
    "            return True\n",
    "        return False\n",
    "\n",
    "    # equality\n",
    "    def __eq__(self, y):\n",
    "        if isinstance(y, BQuadForm):\n",
    "            return self.a == y.a and self.b == y.b and self.c == y.c and self.disc == y.disc\n",
    "        raise TypeError(\"syntax error\")\n",
    "\n",
    "    # string representation\n",
    "    def __repr__(self):\n",
    "        return str((self.a, self.b, self.c)) + \" disc: \" + str(self.disc)\n",
    "\n",
    "    # inverse of primitive quadratic form\n",
    "    # reference: p.250 of Cohen -\n",
    "    # \"A Course in Computational Algebraic Number theory\" (GTM 138)\n",
    "    def inverse(self):\n",
    "        return BQuadForm(self.a, -self.b, self.c)\n",
    "\n",
    "    # identity element := BQuadForm * BQuadForm.inverse()\n",
    "    def identity(self):\n",
    "        return self * self.inverse()\n",
    "\n",
    "    # composition (NUCOMP algorithm)\n",
    "    # reference: Algorithm 5.4.9 (p.249) of Cohen -\n",
    "    # \"A Course in Computational Algebraic Number theory\" (GTM 138)\n",
    "    def __mul__(self, y):\n",
    "        if not isinstance(y, BQuadForm):\n",
    "            raise TypeError(\"syntax error\")\n",
    "        if self.disc != y.disc:\n",
    "            raise ValueError(\"discriminants are different\")\n",
    "        # [Initialize]\n",
    "        if self.a > y.a:\n",
    "            a1 = self.a\n",
    "            b1 = self.b\n",
    "            c1 = self.c\n",
    "            a2 = y.a\n",
    "            b2 = y.b\n",
    "            c2 = y.c\n",
    "        else:    # if a1 < a2 exchange f1 and f2\n",
    "            a1 = y.a\n",
    "            b1 = y.b\n",
    "            c1 = y.c\n",
    "            a2 = self.a\n",
    "            b2 = self.b\n",
    "            c2 = self.c\n",
    "        s = (b1 + b2) >> 1\n",
    "        n = b2 - s\n",
    "        # [First Euclidean step]\n",
    "        u, v ,d = ext_euclid_front(a2, a1)\n",
    "        if s % d == 0:   # if d|s\n",
    "            A = -u * n\n",
    "            d1 = d\n",
    "            if d != 1:\n",
    "                a1 //= d1\n",
    "                a2 //= d1\n",
    "                s //= d1\n",
    "        else:   # if not d|s\n",
    "            # [Second Euclidean step]\n",
    "            u1, v1, d1 = ext_euclid_front(s, d)\n",
    "            if d1 > 1:\n",
    "                a1 //= d1\n",
    "                a2 //= d1\n",
    "                s //= d1\n",
    "                d //= d1\n",
    "            # [Initialization of reduction]\n",
    "            l = (-u1 * (u * (c1 % d) + v * (c2 % d))) % d\n",
    "            A = -u * (n // d) + l * (a1 // d)\n",
    "        # [Partial reduction]\n",
    "        A %= a1\n",
    "        A1 = a1 - A\n",
    "        if A1 < A:\n",
    "            A = -A1\n",
    "        # input sequence: d, v3, v, v2, L = bound\n",
    "        v, d, v2, v3, z = part_euclid_front(a1, A, 0, 1, self.L)\n",
    "        # [Special case]\n",
    "        if z == 0:\n",
    "            Q1 = a2 * v3\n",
    "            Q2 = Q1 + n\n",
    "            f = Q2 // d\n",
    "            g = (v3 * s + c2) // d\n",
    "            a3 = d * a2\n",
    "            # c3 = v3 * f + g * d1   # not required if disc is provided\n",
    "            b3 = 2 * Q1 + b2\n",
    "            return BQuadForm(a3, b3, disc = self.disc)\n",
    "        # [Final computations]\n",
    "        b = (a2 * d + n * v) // a1\n",
    "        Q1 = b * v3\n",
    "        Q2 = Q1 + n\n",
    "        f = Q2 // d\n",
    "        e = (s * d + c2 * v) // a1\n",
    "        Q3 = e * v2\n",
    "        Q4 = Q3 - s\n",
    "        g = Q4 // v\n",
    "        if d1 > 1:\n",
    "            v2 *= d1\n",
    "            v *= d1\n",
    "        a3 = d * b + e * v\n",
    "        # c3 = v3 * f + g * v2   # not required if disc is provided\n",
    "        b3 = Q1 + Q2 + d1 * (Q3 + Q4)\n",
    "        return BQuadForm(a3, b3, disc = self.disc)\n",
    "\n",
    "    # squaring (NUDUPL algorithm)\n",
    "    # reference: Algorithm 5.4.8 (p.248) of Cohen -\n",
    "    # \"A Course in Computational Algebraic Number theory\" (GTM 138)\n",
    "    def square(self):\n",
    "        a = self.a\n",
    "        b = self.b\n",
    "        c = self.c\n",
    "        # [Euclidean step]\n",
    "        u, _, d1 = ext_euclid_front(b, a)\n",
    "        A = a // d1\n",
    "        B = b // d1\n",
    "        C = (- c * u) % A\n",
    "        C1 = A - C\n",
    "        if C1 < C:\n",
    "            C = -C1\n",
    "        # [Partial reduction]\n",
    "        # input sequence: d, v3, v, v2, L = bound\n",
    "        v, d, v2, v3, z = part_euclid_front(A, C, 0, 1, self.L)\n",
    "        # [Special case]\n",
    "        if z == 0:\n",
    "            g = (B * v3 + c) // d\n",
    "            a2 = d * d\n",
    "            # c2 = v3 * v3 + g * d1   # not required if disc is provided\n",
    "            b2 = b + 2 * d * v3   # simplified\n",
    "            return BQuadForm(a2, b2, disc = self.disc)\n",
    "        # [Final computations]\n",
    "        e = (c * v + B * d) // A\n",
    "        g = (e * v2 - B) // v\n",
    "        b2 = e * v2 + v * g\n",
    "        if d1 > 1:\n",
    "            b2 *= d1\n",
    "            v *= d1\n",
    "            v2 *= d1\n",
    "        a2 = d * d + e * v\n",
    "        # c2 = v3 * v3 + g * v2   # not required if disc is provided\n",
    "        b2 += 2 * d * v3   # simplified\n",
    "        return BQuadForm(a2, b2, disc = self.disc)\n",
    "\n",
    "    # exponentiation using Non-Adjacent Form (NAF) of an integer\n",
    "    # reference: Algorithm 3.1 (p.27) of Sayles -\n",
    "    # \"Improved Arithmetic in the Ideal Class Group of Imaginary Quadratic Number Fields\n",
    "    # with an Application to Integer Factoring\"\n",
    "    def __pow__(self, y):\n",
    "        if not (isinstance(y, int) and y >= 0):\n",
    "            raise TypeError(\"syntax error\")\n",
    "        c = 0\n",
    "        T = self\n",
    "        R = self.identity()\n",
    "        # note: instead of using counter i for the while loop, I used right-shifting of y instead\n",
    "        rsh_y = y\n",
    "        while rsh_y > 0:\n",
    "            twobit_test = (rsh_y + c) % 4\n",
    "            if twobit_test == 1:\n",
    "                R *= T\n",
    "                c = 0\n",
    "            elif twobit_test == 3:\n",
    "                R *= T.inverse()\n",
    "                c = 1\n",
    "            T = T.square()\n",
    "            rsh_y >>= 1\n",
    "        if c == 1:\n",
    "            R *= T\n",
    "        return R"
   ]
  },
  {
   "cell_type": "code",
   "execution_count": 4,
   "id": "ef839988",
   "metadata": {},
   "outputs": [],
   "source": [
    "def random_prime(n):\n",
    "    prime_candidate = 2\n",
    "    while True:\n",
    "            prime_candidate = getLowLevelPrime(n)\n",
    "            if not isMillerRabinPassed(prime_candidate):\n",
    "                continue\n",
    "            else:\n",
    "                break\n",
    "    return prime_candidate"
   ]
  },
  {
   "cell_type": "code",
   "execution_count": 5,
   "id": "d65f36cd",
   "metadata": {},
   "outputs": [],
   "source": [
    "# Large Prime Generation for RSA\n",
    "import random\n",
    " \n",
    "# Pre generated primes\n",
    "first_primes_list = [2, 3, 5, 7, 11, 13, 17, 19, 23, 29,\n",
    "                     31, 37, 41, 43, 47, 53, 59, 61, 67,\n",
    "                     71, 73, 79, 83, 89, 97, 101, 103,\n",
    "                     107, 109, 113, 127, 131, 137, 139,\n",
    "                     149, 151, 157, 163, 167, 173, 179,\n",
    "                     181, 191, 193, 197, 199, 211, 223,\n",
    "                     227, 229, 233, 239, 241, 251, 257,\n",
    "                     263, 269, 271, 277, 281, 283, 293,\n",
    "                     307, 311, 313, 317, 331, 337, 347, 349]\n",
    " \n",
    " \n",
    "def nBitRandom(n):\n",
    "    return random.randrange(2**(n-1)+1, 2**n - 1)\n",
    " \n",
    " \n",
    "def getLowLevelPrime(n):\n",
    "    '''Generate a prime candidate divisible \n",
    "    by first primes'''\n",
    "    while True:\n",
    "        # Obtain a random number\n",
    "        pc = nBitRandom(n)\n",
    " \n",
    "        # Test divisibility by pre-generated\n",
    "        # primes\n",
    "        for divisor in first_primes_list:\n",
    "            if pc % divisor == 0 and divisor**2 <= pc:\n",
    "                break\n",
    "        else:\n",
    "            return pc\n",
    " \n",
    " \n",
    "def isMillerRabinPassed(mrc):\n",
    "    '''Run 30 iterations of Rabin Miller Primality test'''\n",
    "    maxDivisionsByTwo = 0\n",
    "    ec = mrc-1\n",
    "    while ec % 2 == 0:\n",
    "        ec >>= 1\n",
    "        maxDivisionsByTwo += 1\n",
    "    assert(2**maxDivisionsByTwo * ec == mrc-1)\n",
    " \n",
    "    def trialComposite(round_tester):\n",
    "        if pow(round_tester, ec, mrc) == 1:\n",
    "            return False\n",
    "        for i in range(maxDivisionsByTwo):\n",
    "            if pow(round_tester, 2**i * ec, mrc) == mrc-1:\n",
    "                return False\n",
    "        return True\n",
    " \n",
    "    # Set number of trials here\n",
    "    numberOfRabinTrials = 30\n",
    "    for i in range(numberOfRabinTrials):\n",
    "        round_tester = random.randrange(2, mrc)\n",
    "        if trialComposite(round_tester):\n",
    "            return False\n",
    "    return True"
   ]
  },
  {
   "cell_type": "code",
   "execution_count": 6,
   "id": "30443863",
   "metadata": {},
   "outputs": [],
   "source": [
    "def jacobi(a, n):\n",
    "    if n <= 0:\n",
    "        raise ValueError(\"'n' must be a positive integer.\")\n",
    "    if n % 2 == 0:\n",
    "        raise ValueError(\"'n' must be odd.\")\n",
    "    a %= n\n",
    "    result = 1\n",
    "    while a != 0:\n",
    "        while a % 2 == 0:\n",
    "            a /= 2\n",
    "            n_mod_8 = n % 8\n",
    "            if n_mod_8 in (3, 5):\n",
    "                result = -result\n",
    "        a, n = n, a\n",
    "        if a % 4 == 3 and n % 4 == 3:\n",
    "            result = -result\n",
    "        a %= n\n",
    "    if n == 1:\n",
    "        return result\n",
    "    else:\n",
    "        return 0"
   ]
  },
  {
   "cell_type": "code",
   "execution_count": 7,
   "id": "710ba404",
   "metadata": {},
   "outputs": [],
   "source": [
    "## Useful website for testing purposes: https://mathworld.wolfram.com/ClassNumber.html"
   ]
  },
  {
   "cell_type": "code",
   "execution_count": 8,
   "id": "ad57384d",
   "metadata": {},
   "outputs": [
    {
     "name": "stdout",
     "output_type": "stream",
     "text": [
      "The discriminant is: -831370543\n",
      "Range for reduced forms: 16650\n"
     ]
    },
    {
     "name": "stderr",
     "output_type": "stream",
     "text": [
      "100%|█████████████████████████████████████| 16649/16649 [03:11<00:00, 86.86it/s]"
     ]
    },
    {
     "name": "stdout",
     "output_type": "stream",
     "text": [
      "Number of reduced forms found 12029\n"
     ]
    },
    {
     "name": "stderr",
     "output_type": "stream",
     "text": [
      "\n"
     ]
    }
   ],
   "source": [
    "## random_prime(bitlength//2)\n",
    "#discriminant = -1*random_prime(8)\n",
    "discriminant = -831370543\n",
    "#discriminant = -967\n",
    "print(\"The discriminant is:\", discriminant)\n",
    "rangeA = math.ceil(math.sqrt(-discriminant/3))+2\n",
    "rangeB = rangeA\n",
    "print(\"Range for reduced forms:\", rangeA)\n",
    "cnt = 0 # number of equivalent binary quadratic forms\n",
    "reducedFormsWithCnt = {}\n",
    "classGroups = np.zeros((rangeA, 2*rangeB+1))\n",
    "coefficientsA = []\n",
    "coefficientsB = []\n",
    "coefficientsC = []\n",
    "allCoefficientsA = []\n",
    "allCoefficientsB = []\n",
    "seenReducedForms = []\n",
    "m = hashlib.sha256()\n",
    "# Discriminant = b^2-4*a*c\n",
    "for a in tqdm(range(1,rangeA)):\n",
    "    for b in range(rangeB,-rangeB,-1):\n",
    "        if (b*b-discriminant)%(4*a) == 0:\n",
    "            c = (b*b-discriminant)//(4*a)\n",
    "            if b*b-4*a*c == discriminant:\n",
    "                myForm = BQuadForm(a,b,c)\n",
    "                myForm.a=a\n",
    "                myForm.b=b\n",
    "                myForm.c=c\n",
    "                allCoefficientsA.append(a)\n",
    "                allCoefficientsB.append(b)\n",
    "                byteArrayToHash = repr(a).encode()+repr(712343217).encode()+repr(b).encode()+repr(712343217).encode()+repr(c).encode()\n",
    "                myhash = hashlib.sha256(byteArrayToHash).hexdigest()\n",
    "                if myForm.isReduced() and (myhash not in reducedFormsWithCnt):\n",
    "                    reducedFormsWithCnt[myhash]=cnt\n",
    "                    seenReducedForms.append(reducedFormsWithCnt[myhash])\n",
    "                    #classGroups[a][b+rangeB]=cnt\n",
    "                    classGroups[a][b]+=1\n",
    "                    cnt+=1\n",
    "                    coefficientsA.append(myForm.a)\n",
    "                    coefficientsB.append(myForm.b)\n",
    "                    coefficientsC.append(myForm.c)\n",
    "                    #print(myForm)\n",
    "                if myForm.isReduced() and (myhash in reducedFormsWithCnt):\n",
    "                    #classGroups[a][b+rangeB]=reducedFormsWithCnt[myhash]\n",
    "                    seenReducedForms.append(reducedFormsWithCnt[myhash])\n",
    "                    #print(\"Reduced\",a,b,c)\n",
    "                if not myForm.isReduced():\n",
    "                    myForm._BQuadForm__reduction()\n",
    "                    byteArrayToHash = repr(myForm.a).encode()+repr(712343217).encode()+repr(myForm.b).encode()+repr(712343217).encode()+repr(myForm.c).encode()\n",
    "                    myhash = hashlib.sha256(byteArrayToHash).hexdigest()\n",
    "                    if (myhash not in reducedFormsWithCnt) and myForm.isReduced():\n",
    "                        reducedFormsWithCnt[myhash]=cnt\n",
    "                        seenReducedForms.append(reducedFormsWithCnt[myhash])\n",
    "                        #classGroups[a][b+rangeB]=cnt\n",
    "                        classGroups[a][b]+=1\n",
    "                        cnt+=1\n",
    "                        coefficientsA.append(myForm.a)\n",
    "                        coefficientsB.append(myForm.b)\n",
    "                        coefficientsC.append(myForm.c)\n",
    "                        #print(myForm)\n",
    "                    else:\n",
    "                        #classGroups[a][b+rangeB]=reducedFormsWithCnt[myhash]\n",
    "                        seenReducedForms.append(reducedFormsWithCnt[myhash])\n",
    "                        #print(\"Non-reduced\",a,b,c)\n",
    "                \n",
    "                \n",
    "                #print(a,b,myForm,myForm.isReduced(),str(hash(tuple(myForm))))\n",
    "                #print(a,b,b*b-discriminant//(4*a),myForm._BQuadForm__reduction())\n",
    "                #cnt+=1\n",
    "print(\"Number of reduced forms found\", cnt)\n",
    "#print(classGroups)\n",
    "#print(coefficientsB)"
   ]
  },
  {
   "cell_type": "code",
   "execution_count": 9,
   "id": "fea3a5af",
   "metadata": {},
   "outputs": [],
   "source": [
    "## Cool discriminants\n",
    "## -2545453607"
   ]
  },
  {
   "cell_type": "code",
   "execution_count": 10,
   "id": "5144b7a9",
   "metadata": {},
   "outputs": [
    {
     "name": "stdout",
     "output_type": "stream",
     "text": [
      "Number of reduced forms: 12029\n",
      "Character: 1.3106359428904986\n"
     ]
    },
    {
     "data": {
      "image/png": "[encoded data removed]",
      "text/plain": [
       "<Figure size 640x480 with 1 Axes>"
      ]
     },
     "metadata": {},
     "output_type": "display_data"
    }
   ],
   "source": [
    "coefficientADensity = Counter(coefficientsA)\n",
    "#print(coefficientADensity)\n",
    "key = coefficientADensity.keys()\n",
    "values = coefficientADensity.values()\n",
    "print(\"Number of reduced forms:\",sum(values))\n",
    "print(\"Character:\",(sum(values)*3.1415926)/math.sqrt(-discriminant))\n",
    "\n",
    "## Distribution of the coefficient \"A\" in the studied class group of imaginary quadratic field\n",
    "allCoefficientADensity = Counter(allCoefficientsA)\n",
    "allKey = allCoefficientADensity.keys()\n",
    "allValues = allCoefficientADensity.values()\n",
    "\n",
    "#print(allCoefficientADensity)\n",
    "## Uniform distribution \n",
    "#uniformX = [i for i in range(rangeA)]\n",
    "#uniformY = [sum(values)/rangeA for i in range(rangeA)]\n",
    "\n",
    "#plt.bar(allKey, allValues, width=4, color='red', label='All binary quadratic forms')\n",
    "plt.bar(key, values, width=4, color='blue', label='Reduced binary quadratic forms')\n",
    "#plt.bar(uniformX, uniformY, width=4, color='red', label='Discrete uniform distribution')\n",
    "plt.xlabel('Coefficient $a$ of the binary quadratic forms with $\\Delta=$'+str(discriminant))\n",
    "plt.ylabel(\"Count\")\n",
    "#plt.yscale('log')\n",
    "#plt.title(\"The distribution of coefficient $a$ for the discriminant \"+str(discriminant))\n",
    "plt.legend()\n",
    "plt.savefig(\"./Figures/coefficientAdensity.pdf\")\n",
    "plt.show()"
   ]
  },
  {
   "cell_type": "code",
   "execution_count": 112,
   "id": "ed64d392",
   "metadata": {},
   "outputs": [
    {
     "name": "stdout",
     "output_type": "stream",
     "text": [
      "1665.0\n",
      "Expected discrete probability distribution for coefficient A [1202.9, 1202.9, 1202.9, 1202.9, 1202.9, 1202.9, 1202.9, 1202.9, 1202.9, 1202.9]\n",
      "Observed discrete probability distribution for coefficient A [1345, 1350, 1288, 1330, 1274, 1372, 1324, 1322, 1174, 250]\n"
     ]
    },
    {
     "data": {
      "text/plain": [
       "Power_divergenceResult(statistic=861.7348906808545, pvalue=1.0832748286251192e-179)"
      ]
     },
     "execution_count": 112,
     "metadata": {},
     "output_type": "execute_result"
    }
   ],
   "source": [
    "## Chi-squared test for the coefficient A\n",
    "numOfIntervals = math.ceil(math.log(rangeA))\n",
    "lenOfIntervals = rangeA/numOfIntervals\n",
    "expectedInterval = [uniformY[0]*lenOfIntervals for i in range(numOfIntervals)]\n",
    "observedInterval = [0]*numOfIntervals\n",
    "print(lenOfIntervals)\n",
    "for i in range(numOfIntervals):\n",
    "    counter = 0\n",
    "    for k in key:\n",
    "        if i*lenOfIntervals<k and k<(i+1)*lenOfIntervals:\n",
    "            counter+=coefficientADensity[k] \n",
    "    observedInterval[i] = counter\n",
    "print(\"Expected discrete probability distribution for coefficient A\", expectedInterval)\n",
    "print(\"Observed discrete probability distribution for coefficient A\", observedInterval)\n",
    "chisquare(f_obs=observedInterval, f_exp=expectedInterval)"
   ]
  },
  {
   "cell_type": "code",
   "execution_count": 20,
   "id": "123ccc06",
   "metadata": {},
   "outputs": [],
   "source": [
    "bound = math.floor(math.sqrt(math.sqrt(-discriminant)))\n",
    "predictedBForms = Counter()\n",
    "for i in range(bound):\n",
    "    predictedBForms[i]=0.5*math.log(-discriminant/4)\n",
    "for i in range(bound,rangeB):\n",
    "    predictedBForms[i] = math.log(math.sqrt(-discriminant))-math.log(math.sqrt(3))-math.log(i)\n",
    "    predictedBForms[-i]=predictedBForms[i]"
   ]
  },
  {
   "cell_type": "code",
   "execution_count": 24,
   "id": "8a1cf42e",
   "metadata": {},
   "outputs": [
    {
     "name": "stderr",
     "output_type": "stream",
     "text": [
      "/var/folders/gg/fprt4kn53r70np9bpl1n8kh00000gn/T/ipykernel_34548/2490341305.py:21: UserWarning: Creating legend with loc=\"best\" can be slow with large amounts of data.\n",
      "  plt.savefig(\"./Figures/coefficientBdensity.pdf\")\n"
     ]
    },
    {
     "data": {
      "image/png": "[encoded data removed]",
      "text/plain": [
       "<Figure size 640x480 with 1 Axes>"
      ]
     },
     "metadata": {},
     "output_type": "display_data"
    }
   ],
   "source": [
    "coefficientBDensity = Counter(coefficientsB)\n",
    "key = coefficientBDensity.keys()\n",
    "values = coefficientBDensity.values()\n",
    "\n",
    "coefficientBPredictedDensity = Counter(predictedBForms)\n",
    "predictedKey = coefficientBPredictedDensity.keys()\n",
    "predictedValues = coefficientBPredictedDensity.values()\n",
    "\n",
    "allCoefficientBDensity = Counter(allCoefficientsB)\n",
    "allKey = allCoefficientBDensity.keys()\n",
    "allValues = allCoefficientBDensity.values()\n",
    "\n",
    "#plt.bar(allKey, allValues, width=2, color='red', label='All binary quadratic forms')\n",
    "plt.bar(key, values, width=4, color='blue', label='Reduced binary quadratic forms')\n",
    "#plt.bar(predictedKey, predictedValues, width=4, color='red', label='Predicted binary quadratic forms')\n",
    "plt.xlabel('Coefficient $b$ of the binary quadratic forms with $\\Delta=$'+str(discriminant))\n",
    "plt.ylabel(\"Count\")\n",
    "plt.yscale('log')\n",
    "#plt.title(\"The distribution of coefficient $b$ for the discriminant \"+str(discriminant))\n",
    "plt.legend()\n",
    "plt.savefig(\"./Figures/coefficientBdensity.pdf\")\n",
    "plt.show()"
   ]
  },
  {
   "cell_type": "code",
   "execution_count": 109,
   "id": "ba88ee7f",
   "metadata": {},
   "outputs": [
    {
     "name": "stdout",
     "output_type": "stream",
     "text": [
      "0.0\n",
      "1665.0\n",
      "3330.0\n",
      "4995.0\n",
      "6660.0\n",
      "8325.0\n",
      "9990.0\n",
      "11655.0\n",
      "13320.0\n",
      "14985.0\n",
      "Expected discrete probability distribution for coefficient B [601.5, 601.5, 601.5, 601.5, 601.5, 601.5, 601.5, 601.5, 601.5, 601.5]\n",
      "Observed discrete probability distribution for coefficient B [2148, 1100, 816, 655, 452, 343, 252, 144, 72, 33]\n"
     ]
    },
    {
     "data": {
      "text/plain": [
       "Power_divergenceResult(statistic=6173.280964256027, pvalue=0.0)"
      ]
     },
     "execution_count": 109,
     "metadata": {},
     "output_type": "execute_result"
    }
   ],
   "source": [
    "## Chi-squared test for the coefficient B\n",
    "numOfIntervals = math.ceil(math.log(rangeA))\n",
    "lenOfIntervals = rangeA/numOfIntervals\n",
    "observedInterval = [0]*numOfIntervals\n",
    "for i in range(numOfIntervals):\n",
    "    counter = 0\n",
    "    print(i*lenOfIntervals)\n",
    "    for k in key:\n",
    "        if i*lenOfIntervals<=k and k<(i+1)*lenOfIntervals:\n",
    "            counter+=coefficientBDensity[k] \n",
    "    observedInterval[i] = counter\n",
    "\n",
    "expectedInterval = [sum(observedInterval)/numOfIntervals for i in range(numOfIntervals)]\n",
    "print(\"Expected discrete probability distribution for coefficient B\", expectedInterval)\n",
    "print(\"Observed discrete probability distribution for coefficient B\", observedInterval)\n",
    "chisquare(f_obs=observedInterval, f_exp=expectedInterval)"
   ]
  },
  {
   "cell_type": "code",
   "execution_count": null,
   "id": "1cd57d8c",
   "metadata": {},
   "outputs": [],
   "source": [
    "coefficientCDensity = Counter(coefficientsC)\n",
    "key = coefficientCDensity.keys()\n",
    "values = coefficientCDensity.values()\n",
    "\n",
    "\n",
    "#allCoefficientCDensity = Counter(allCoefficientsC)\n",
    "#allKey = allCoefficientCDensity.keys()\n",
    "#allValues = allCoefficientCDensity.values()\n",
    "\n",
    "#plt.bar(allKey, allValues, width=2, color='red', label='All binary quadratic forms')\n",
    "#plt.hist(key)\n",
    "plt.bar(key, values, width=2, color='blue', label='Reduced binary quadratic forms')\n",
    "plt.xlabel('Coefficient $c$ of the binary quadratic forms with $\\Delta=$'+str(discriminant))\n",
    "plt.ylabel(\"Count\")\n",
    "#plt.yscale('log')\n",
    "plt.xscale('log')\n",
    "#plt.title(\"The distribution of coefficient $b$ for the discriminant \"+str(discriminant))\n",
    "plt.legend()\n",
    "plt.savefig(\"./Figures/coefficientCdensity.pdf\")\n",
    "plt.show()"
   ]
  },
  {
   "cell_type": "code",
   "execution_count": 12,
   "id": "d20eb920",
   "metadata": {},
   "outputs": [
    {
     "data": {
      "image/png": "[encoded data removed]",
      "text/plain": [
       "<Figure size 640x480 with 1 Axes>"
      ]
     },
     "metadata": {},
     "output_type": "display_data"
    }
   ],
   "source": [
    "seenReducedFormDensity = Counter(seenReducedForms)\n",
    "key = seenReducedFormDensity.keys()\n",
    "values = seenReducedFormDensity.values()\n",
    "\n",
    "plt.bar(key, values, width=2)\n",
    "plt.xscale('log')\n",
    "plt.yscale('log')\n",
    "plt.xlabel('Identifier of the reduced form')\n",
    "plt.ylabel(\"Count\")\n",
    "plt.title(\"The distribution of reduced forms for the discriminant \"+str(discriminant))\n",
    "plt.savefig(\"./Figures/reducedFormDist.pdf\")\n",
    "plt.show()"
   ]
  },
  {
   "cell_type": "code",
   "execution_count": 5,
   "id": "e6d863e8",
   "metadata": {},
   "outputs": [
    {
     "data": {
      "image/png": "[encoded data removed]",
      "text/plain": [
       "<Figure size 700x700 with 2 Axes>"
      ]
     },
     "metadata": {},
     "output_type": "display_data"
    }
   ],
   "source": [
    "fig = plt.figure(figsize=(7, 7))\n",
    "\n",
    "ax = fig.add_subplot(111)\n",
    "ax.set_title(\"Equivalence Classes of \\n Binary Quadratic Forms $(ax^2+bx+c)$ with $\\Delta=$\"+str(discriminant))\n",
    "plt.xlabel(\"b\")\n",
    "plt.ylabel(\"a\")\n",
    "norm = mcolors.TwoSlopeNorm(vmin=classGroups.min(), vmax = classGroups.max(), vcenter=classGroups.max()//2)\n",
    "plt.imshow(classGroups,cmap=plt.cm.RdBu, norm=norm)\n",
    "ax.set_aspect('equal')\n",
    "cbar = plt.colorbar(orientation='vertical')\n",
    "cbar.set_label('Equivalence classes of forms')\n",
    "plt.savefig(\"./Figures/existingFormsWithDiscriminant.pdf\")"
   ]
  },
  {
   "cell_type": "code",
   "execution_count": 70,
   "id": "5507bea4",
   "metadata": {},
   "outputs": [
    {
     "name": "stdout",
     "output_type": "stream",
     "text": [
      "[-200.    0.  200.  400.  600.  800. 1000. 1200. 1400. 1600. 1800.]\n",
      "[Text(-200.0, 0, '−200'), Text(0.0, 0, '0'), Text(200.0, 0, '200'), Text(400.0, 0, '400'), Text(600.0, 0, '600'), Text(800.0, 0, '800'), Text(1000.0, 0, '1000'), Text(1200.0, 0, '1200'), Text(1400.0, 0, '1400'), Text(1600.0, 0, '1600'), Text(1800.0, 0, '1800')]\n"
     ]
    },
    {
     "data": {
      "image/png": "[encoded data removed]",
      "text/plain": [
       "<Figure size 700x700 with 1 Axes>"
      ]
     },
     "metadata": {},
     "output_type": "display_data"
    }
   ],
   "source": [
    "#classGroups = classGroups.transpose()\n",
    "fig = plt.figure(figsize = (7,7))\n",
    "ax = fig.add_subplot(111)\n",
    "#ax.set_title(\"Equivalence Classes of \\n Binary Quadratic Forms $(ax^2+bx+c)$ with $\\Delta=$\"+str(discriminant))\n",
    "plt.xlabel(\"b\")\n",
    "plt.ylabel(\"a\")\n",
    "cmapmine = ListedColormap(['b', 'w'], N=2)\n",
    "#norm = mcolors.TwoSlopeNorm(vmin=classGroups.min(), vmax = classGroups.max(), vcenter=classGroups.min())\n",
    "plt.imshow(classGroups,cmap=cmapmine, vmin=0, vmax=1, interpolation='none')\n",
    "#ax.set_aspect('equal')\n",
    "plt.gca().invert_yaxis()\n",
    "#cbar = plt.colorbar(orientation='vertical')\n",
    "#cbar.set_label('Equivalence classes of forms')\n",
    "# ytikcs\n",
    "locs,labels = plt.xticks()\n",
    "print(locs)\n",
    "print(labels)\n",
    "plt.xticks(locs, map(lambda x: x-classGroups.shape[0], locs))\n",
    "plt.savefig(\"./Figures/coefficientAandBheatmap.pdf\")"
   ]
  },
  {
   "cell_type": "code",
   "execution_count": 41,
   "id": "b413a876",
   "metadata": {},
   "outputs": [
    {
     "name": "stdout",
     "output_type": "stream",
     "text": [
      "20\n",
      "0.0 1.0\n"
     ]
    }
   ],
   "source": [
    "print(classGroups.shape[0])\n",
    "print(classGroups.min(),classGroups.max())"
   ]
  },
  {
   "cell_type": "code",
   "execution_count": 8,
   "id": "3e3f6c3c",
   "metadata": {},
   "outputs": [],
   "source": [
    "## Orbit of a quadratic binary form by multiplying with a SL(Z,2) matrix"
   ]
  },
  {
   "cell_type": "code",
   "execution_count": 9,
   "id": "2cbb932e",
   "metadata": {},
   "outputs": [],
   "source": [
    "## Visualizing the class group operation via visualizing repeated squaring"
   ]
  },
  {
   "cell_type": "code",
   "execution_count": 101,
   "id": "f1c1e788",
   "metadata": {},
   "outputs": [],
   "source": [
    "## An implementation of Bach's algorithm\n",
    "## Taken from here: https://codegolf.stackexchange.com/questions/265857/random-factorized-numbers\n",
    "def gen_factor(N,disc):\n",
    "    while True:\n",
    "        j = random.randint(1, N.bit_length() - 1)\n",
    "        q = (1 << j) + random.randrange(1 << j)\n",
    "        if q > N:\n",
    "            continue\n",
    "        Nt = N // q\n",
    "        #print(N,q,Nt,j)\n",
    "        if Decimal(random.randint(1,N)) >= Decimal(math.log(q, N)) * Decimal(((Nt + 1) >> 1) << j):\n",
    "            continue\n",
    "        p, a = sympy.perfect_power(q) or (q, 1)\n",
    "        if random.random() >= 1 / a:\n",
    "            continue\n",
    "        ## Additional check: Legendre symbol disc mod p must be 1\n",
    "        if sympy.isprime(p) and (p==2 or libnum.jacobi(disc,p)==1 ):\n",
    "            return p, a, Nt\n",
    "\n",
    "## Little modification: we should only care about prime factors that satisfy certain requirements\n",
    "## For instance, Legendre symbol disc mod p must be 1\n",
    "def bach(N, disc):\n",
    "    if N <= 10**2:\n",
    "        x = random.randint(N//2 + 1, N)\n",
    "        return x, sympy.factorint(x)\n",
    "    while True:\n",
    "        p, a, Nt = gen_factor(N,disc)\n",
    "        newx, factx = bach(Nt, disc)\n",
    "        newx *= p ** a\n",
    "        if random.random() < (math.log(N, newx)-math.log(2, newx)):\n",
    "            factx[p] = factx.get(p, 0) + a\n",
    "            return newx, factx\n",
    "\n",
    "\n",
    "def gen(n):\n",
    "    return bach((1 << n) - 1)"
   ]
  },
  {
   "cell_type": "code",
   "execution_count": 13,
   "id": "192eef3b",
   "metadata": {},
   "outputs": [
    {
     "name": "stdout",
     "output_type": "stream",
     "text": [
      "(7186687147464796742773947748869860115851915113390785755873456290593509962702967538872768989772382715138653648568780052207238316014546335318014116720148068224433114590449171685190855161245008990039526842478113732904761281844050889061943900132588622594994720610827400379286184315677188596514247346509994, {2: 1, 11: 1, 53: 1, 7: 2, 450872909672657206524865374362343041: 1, 1734668903640466992891267200972974870207814952388208200737288966716913074791786125244853: 1, 160828634239400950899000853641106112503249501018042117049498425806540177065863475684543912673492309616159739041817487229245526281775535782435344942770609674415046803687717767: 1})\n"
     ]
    }
   ],
   "source": [
    "print(bach(2**1000+5,libnum.generate_prime(512)))"
   ]
  },
  {
   "cell_type": "code",
   "execution_count": 45,
   "id": "2c8ff6d5",
   "metadata": {},
   "outputs": [],
   "source": [
    "## This algorithm was suggested by Benjamin Wesolowski and implemented by Giacomo Pope\n",
    "## Room for improvement: only generates class group elements of the form (p,b,c) for some prime\n",
    "## Hence, not a surjective mapping to the class group. \n",
    "def random_ClassGroupElement(discriminant,a): #a should be a random prime\n",
    "    D_mod_a = discriminant % a\n",
    "    if libnum.jacobi(D_mod_a,a)==1:\n",
    "        b = next(libnum.sqrtmod_prime_power(discriminant, a,1)) ## 1 is the power of the prime so mod a^1\n",
    "    else:\n",
    "        return (-1,0)\n",
    "    #print(\"first\",discriminant,a,b,(b*b-discriminant) / (4*a))\n",
    "    if b == 0:\n",
    "        return (-2,0)\n",
    "    if b % 2 == 0:\n",
    "        b = (a - b)\n",
    "    ##if discriminant % 4 == 0:\n",
    "    ##    b = crt([b, 2], [(a, 1), (2, 2)], 4*a)\n",
    "    # c = int((b*b-discriminant) / (4*a))\n",
    "    #print(\"second\",discriminant,a,b,c)\n",
    "    myForm = BQuadForm(a,b,disc=discriminant)\n",
    "    if myForm.c == 0 or b*b-4*a*myForm.c!=discriminant: #((b*b-discriminant)%(4*a)) != 0 or\n",
    "        return (-3,0)\n",
    "    sign = randint(0,1)\n",
    "    if sign:\n",
    "        return  (a, b)\n",
    "    return  (a, -b)"
   ]
  },
  {
   "cell_type": "code",
   "execution_count": 80,
   "id": "fec81187",
   "metadata": {},
   "outputs": [],
   "source": [
    "## This algorithm is a faster version of the previous algorithm using Bach's algorithm\n",
    "def random_ClassGroupElementFaster(maxNum, discriminant): \n",
    "    a = bach(maxNum, discriminant)\n",
    "    modSqrts = []\n",
    "    #print(a[0], a[1])\n",
    "    for k in a[1]: ##loop through the factors of a\n",
    "        ## Sadly the underlying library cannot handle powers of two for this function\n",
    "        ## See it here: https://github.com/hellman/libnum/issues/14\n",
    "        if k==2:\n",
    "            continue\n",
    "        try:   \n",
    "            mySqrt = next(libnum.sqrtmod_prime_power(discriminant,k,a[1][k]))\n",
    "            modSqrts.append(mySqrt)\n",
    "        except ValueError as ve:\n",
    "            return (0,0)\n",
    "        \n",
    "    ##print(a[1])\n",
    "    primePowers = [k**a[1][k] for k in a[1] if k!=2]\n",
    "    if len(primePowers)==0:\n",
    "        return (0,0)\n",
    "    b = libnum.solve_crt(modSqrts, primePowers)\n",
    "    #myForm = BQuadForm(a[0],b,disc=discriminant)\n",
    "    #return myForm\n",
    "    return (a[0],b)\n",
    "    \n",
    "    if myForm.c == 0 or b*b-4*a*myForm.c!=discriminant: #((b*b-discriminant)%(4*a)) != 0 or\n",
    "        return (-3,0)\n",
    "    sign = randint(0,1)\n",
    "    if sign:\n",
    "        return  (a, b)\n",
    "    return  (a, -b)"
   ]
  },
  {
   "cell_type": "code",
   "execution_count": 102,
   "id": "cb676220",
   "metadata": {},
   "outputs": [
    {
     "name": "stdout",
     "output_type": "stream",
     "text": [
      "Sampling (Wesolowski Faster) 1 group element with a 256-bit discriminant:  0.02269749641418457\n",
      "Sampling (Wesolowski Faster) 1 group element with a 512-bit discriminant:  0.037302398681640626\n",
      "Sampling (Wesolowski Faster) 1 group element with a 768-bit discriminant:  0.14712147712707518\n",
      "Sampling (Wesolowski Faster) 1 group element with a 1024-bit discriminant:  0.12458300590515137\n",
      "Sampling (Wesolowski Faster) 1 group element with a 1280-bit discriminant:  0.18313608169555665\n",
      "Sampling (Wesolowski Faster) 1 group element with a 1536-bit discriminant:  0.3054588794708252\n",
      "Sampling (Wesolowski Faster) 1 group element with a 1792-bit discriminant:  0.36870858669281004\n",
      "Sampling (Wesolowski Faster) 1 group element with a 2048-bit discriminant:  0.5220618963241577\n",
      "Sampling (Wesolowski Faster) 1 group element with a 2304-bit discriminant:  0.5545518875122071\n",
      "Sampling (Wesolowski Faster) 1 group element with a 2560-bit discriminant:  1.1065196990966797\n",
      "Sampling (Wesolowski Faster) 1 group element with a 2816-bit discriminant:  1.870178508758545\n",
      "Sampling (Wesolowski Faster) 1 group element with a 3072-bit discriminant:  1.6297056913375854\n",
      "Sampling (Wesolowski Faster) 1 group element with a 3328-bit discriminant:  1.2265087842941285\n",
      "Sampling (Wesolowski Faster) 1 group element with a 3584-bit discriminant:  1.2780733346939086\n",
      "Sampling (Wesolowski Faster) 1 group element with a 3840-bit discriminant:  2.059975099563599\n",
      "Sampling (Wesolowski Faster) 1 group element with a 4096-bit discriminant:  3.031115007400513\n"
     ]
    }
   ],
   "source": [
    "## Benchmarking the faster version of the Wesolowski hash function using Bach's algorithm\n",
    "howManyTimes = 10\n",
    "bitLengths = [i for i in range(256,4097,256)]\n",
    "outcnt = 0\n",
    "measuredTimesWesolowskiFaster = []\n",
    "measuredAttempts = []\n",
    "\n",
    "\n",
    "for bitLength in bitLengths:   \n",
    "    myDiscriminant = 0\n",
    "    while -myDiscriminant%4 != 1: ## we can only use discriminants%4 = 1\n",
    "        myDiscriminant = libnum.generate_prime(bitLength,30)\n",
    "    #print(math.log(myDiscriminant,2),-myDiscriminant)\n",
    "    \n",
    "    # Start timer\n",
    "    start_time = time.time()\n",
    "    \n",
    "    cnt = 0\n",
    "    attempts = 0\n",
    "    \n",
    "    upperBound = 2**(bitLength//2-2)\n",
    "    while cnt!=howManyTimes:\n",
    "        (a,b) = random_ClassGroupElementFaster(upperBound,-myDiscriminant)\n",
    "        if b!=0:\n",
    "            cnt+=1\n",
    "            #print(cnt)\n",
    "\n",
    "    # End timer\n",
    "    end_time = time.time()\n",
    "    outcnt+=1\n",
    "    # Calculate elapsed time\n",
    "    elapsed_time = end_time - start_time\n",
    "    measuredTimesWesolowskiFaster.append(elapsed_time/howManyTimes)\n",
    "    print(\"Sampling (Wesolowski Faster) 1 group element with a \"+str(bitLength)+\"-bit discriminant: \", elapsed_time/howManyTimes)"
   ]
  },
  {
   "cell_type": "code",
   "execution_count": 104,
   "id": "38fac903",
   "metadata": {},
   "outputs": [
    {
     "name": "stdout",
     "output_type": "stream",
     "text": [
      "Time for sampling (Wesolowski) 1 random group element with a 256-bit discriminant:  0.006452393531799316\n",
      "Time for sampling (Wesolowski) 1 random group element with a 512-bit discriminant:  0.042219901084899904\n",
      "Time for sampling (Wesolowski) 1 random group element with a 768-bit discriminant:  0.045174670219421384\n",
      "Time for sampling (Wesolowski) 1 random group element with a 1024-bit discriminant:  0.10894958972930908\n",
      "Time for sampling (Wesolowski) 1 random group element with a 1280-bit discriminant:  0.19785778522491454\n",
      "Time for sampling (Wesolowski) 1 random group element with a 1536-bit discriminant:  0.5168844699859619\n",
      "Time for sampling (Wesolowski) 1 random group element with a 1792-bit discriminant:  0.6757591962814331\n",
      "Time for sampling (Wesolowski) 1 random group element with a 2048-bit discriminant:  1.693817687034607\n",
      "Time for sampling (Wesolowski) 1 random group element with a 2304-bit discriminant:  1.2242948055267333\n",
      "Time for sampling (Wesolowski) 1 random group element with a 2560-bit discriminant:  1.2925050020217896\n",
      "Time for sampling (Wesolowski) 1 random group element with a 2816-bit discriminant:  4.436141300201416\n",
      "Time for sampling (Wesolowski) 1 random group element with a 3072-bit discriminant:  3.843923306465149\n",
      "Time for sampling (Wesolowski) 1 random group element with a 3328-bit discriminant:  7.2478773355484005\n",
      "Time for sampling (Wesolowski) 1 random group element with a 3584-bit discriminant:  6.842469215393066\n",
      "Time for sampling (Wesolowski) 1 random group element with a 3840-bit discriminant:  10.425210118293762\n",
      "Time for sampling (Wesolowski) 1 random group element with a 4096-bit discriminant:  12.23704707622528\n"
     ]
    }
   ],
   "source": [
    "## Benchmarking the original version of the Wesolowski hash function\n",
    "howManyTimes = 10\n",
    "bitLengths = [i for i in range(256,4097,256)]\n",
    "outcnt = 0\n",
    "measuredTimes = []\n",
    "measuredAttempts = []\n",
    "\n",
    "\n",
    "for bitLength in bitLengths:   \n",
    "    myDiscriminant = 0\n",
    "    while -myDiscriminant%4 != 1: ## we can only use discriminants%4 = 1\n",
    "        myDiscriminant = libnum.generate_prime(bitLength,30)\n",
    "    #print(math.log(myDiscriminant,2),-myDiscriminant)\n",
    "    \n",
    "    # Start timer\n",
    "    start_time = time.time()\n",
    "    \n",
    "    cnt = 0\n",
    "    attempts = 0\n",
    "    # The hashing algorithm by Benjamin&Giacomo\n",
    "    while cnt!=howManyTimes:\n",
    "        p = libnum.generate_prime(bitLength//2-2,30)\n",
    "        if p==2:\n",
    "            continue\n",
    "        (a,b) = random_ClassGroupElement(-myDiscriminant,p)\n",
    "        if p!=a:\n",
    "            continue\n",
    "        #print(attempts, -myDiscriminant,a,b)\n",
    "        if b!=0:\n",
    "            cnt+=1\n",
    "\n",
    "    # End timer\n",
    "    end_time = time.time()\n",
    "    outcnt+=1\n",
    "    # Calculate elapsed time\n",
    "    elapsed_time = end_time - start_time\n",
    "    measuredTimes.append(elapsed_time/howManyTimes)\n",
    "    measuredAttempts.append(attempts)\n",
    "    print(\"Time for sampling (Wesolowski) 1 random group element with a \"+str(bitLength)+\"-bit discriminant: \", elapsed_time/howManyTimes)\n"
   ]
  },
  {
   "cell_type": "code",
   "execution_count": 20,
   "id": "daa8d0f4",
   "metadata": {},
   "outputs": [],
   "source": [
    "## This hashing algorithm is inspired by the CSIDH construction\n",
    "## See the original CSIDH paper here (page 13): https://eprint.iacr.org/2018/383.pdf\n",
    "def random_ClassGroupElementCSIDH(discriminant, primeIdeals, seed):\n",
    "    ## In our applications, the discriminant will always be a large odd prime\n",
    "    ## We initialize the random form to be the identity element in the class group\n",
    "    randomForm = BQuadForm(1,1, disc=discriminant)\n",
    "    for i in range(len(primeIdeals)):\n",
    "        if seed & (1 << i) != 0:\n",
    "            randomForm = randomForm.__mul__(primeIdeals[i])\n",
    "    return randomForm"
   ]
  },
  {
   "cell_type": "code",
   "execution_count": 22,
   "id": "ed078f33",
   "metadata": {},
   "outputs": [],
   "source": [
    "primes = []\n",
    "with open('primes.json') as f:\n",
    "   primes=json.load(f)"
   ]
  },
  {
   "cell_type": "code",
   "execution_count": 105,
   "id": "afcb2f1f",
   "metadata": {},
   "outputs": [
    {
     "name": "stdout",
     "output_type": "stream",
     "text": [
      "256 519\n",
      "Time for sampling 1 random class group element with a 256-bit discriminant:  0.013421893119812012\n",
      "512 1038\n",
      "Time for sampling 1 random class group element with a 512-bit discriminant:  0.05468850135803223\n",
      "768 1502\n",
      "Time for sampling 1 random class group element with a 768-bit discriminant:  0.12862930297851563\n",
      "1024 2016\n",
      "Time for sampling 1 random class group element with a 1024-bit discriminant:  0.20320191383361816\n",
      "1280 2540\n",
      "Time for sampling 1 random class group element with a 1280-bit discriminant:  0.4503715991973877\n",
      "1536 3118\n",
      "Time for sampling 1 random class group element with a 1536-bit discriminant:  0.5290005207061768\n",
      "1792 3645\n",
      "Time for sampling 1 random class group element with a 1792-bit discriminant:  0.7629281044006347\n",
      "2048 4123\n",
      "Time for sampling 1 random class group element with a 2048-bit discriminant:  1.015201210975647\n",
      "2304 4703\n",
      "Time for sampling 1 random class group element with a 2304-bit discriminant:  1.3798425197601318\n",
      "2560 5133\n",
      "Time for sampling 1 random class group element with a 2560-bit discriminant:  2.105905318260193\n",
      "2816 5776\n",
      "Time for sampling 1 random class group element with a 2816-bit discriminant:  2.0263252019882203\n",
      "3072 6238\n",
      "Time for sampling 1 random class group element with a 3072-bit discriminant:  3.664772605895996\n",
      "3328 6670\n",
      "Time for sampling 1 random class group element with a 3328-bit discriminant:  3.4705352067947386\n",
      "3584 7117\n",
      "Time for sampling 1 random class group element with a 3584-bit discriminant:  4.2864337921142575\n",
      "3840 7652\n",
      "Time for sampling 1 random class group element with a 3840-bit discriminant:  5.7799982070922855\n",
      "4096 8181\n",
      "Time for sampling 1 random class group element with a 4096-bit discriminant:  6.438401007652283\n"
     ]
    }
   ],
   "source": [
    "howManyTimes = 10\n",
    "bitLengthsCSIDH = [i for i in range(256,4097,256)]\n",
    "outcnt = 0\n",
    "measuredTimesCSIDH = []\n",
    "measuredAttemptsCSIDH = []\n",
    "\n",
    "for bitLength in bitLengthsCSIDH:\n",
    "    ## Generate correct discriminant of size bitLength\n",
    "    myDiscriminant = 0\n",
    "    while -myDiscriminant%4 != 1: ## we can only use discriminants%4 = 1\n",
    "        myDiscriminant = libnum.generate_prime(bitLength,30)\n",
    "    myDiscriminant = -myDiscriminant\n",
    "    ## Preprocessing\n",
    "    primeIdeals = []\n",
    "    cnt = 1 # we skip 2 from the list of primes\n",
    "    while len(primeIdeals)!=bitLength:\n",
    "        (a,b)=random_ClassGroupElement(myDiscriminant,primes[cnt])\n",
    "        if b!=0:\n",
    "            primeIdeals.append(BQuadForm(a,b, disc=myDiscriminant))     \n",
    "        cnt+=1\n",
    "        \n",
    "    print(bitLength,cnt) \n",
    "    # Start timer\n",
    "    start_time = time.time()\n",
    "    \n",
    "    for i in range(howManyTimes):\n",
    "        s = random.randint(0, (2**bitLength) - 1)\n",
    "        a=random_ClassGroupElementCSIDH(myDiscriminant,primeIdeals,s)\n",
    "\n",
    "    # End timer\n",
    "    end_time = time.time()\n",
    "\n",
    "    # Calculate elapsed time\n",
    "    elapsed_time = end_time - start_time\n",
    "    measuredTimesCSIDH.append(elapsed_time/howManyTimes)\n",
    "    print(\"Time for sampling 1 random class group element with a \"+str(math.ceil(math.log(-myDiscriminant,2)))+\"-bit discriminant: \", elapsed_time/howManyTimes) "
   ]
  },
  {
   "cell_type": "code",
   "execution_count": 106,
   "id": "e9d07106",
   "metadata": {},
   "outputs": [
    {
     "data": {
      "image/png": "[encoded data removed]",
      "text/plain": [
       "<Figure size 640x480 with 1 Axes>"
      ]
     },
     "metadata": {},
     "output_type": "display_data"
    }
   ],
   "source": [
    "plt.plot(bitLengths,measuredTimes,color='red',label='Wesolowski Hash')\n",
    "plt.plot(bitLengths,measuredTimesCSIDH,color='blue',label='CSIDH Hash')\n",
    "plt.plot(bitLengths,measuredTimesWesolowskiFaster,color='green',label='Wesolowski Improved Hash')\n",
    "plt.xlabel('$\\log_2(|\\Delta|)$')\n",
    "plt.ylabel('time (sec)')\n",
    "#plt.yscale('log')\n",
    "plt.legend()\n",
    "plt.tight_layout()\n",
    "#plt.savefig(\"./Figures/hashFunctionRunningTimesSmallParams.pdf\")\n",
    "plt.savefig(\"./Figures/hashFunctionRunningTimesCryptographicParams.pdf\")\n",
    "plt.show()"
   ]
  },
  {
   "cell_type": "code",
   "execution_count": 95,
   "id": "33399233",
   "metadata": {},
   "outputs": [
    {
     "name": "stdout",
     "output_type": "stream",
     "text": [
      "[ 16  24  32  40  48  56  64  72  80  88  96 104 112] 13\n"
     ]
    },
    {
     "data": {
      "image/png": "[encoded data removed]",
      "text/plain": [
       "<Figure size 640x480 with 2 Axes>"
      ]
     },
     "metadata": {},
     "output_type": "display_data"
    }
   ],
   "source": [
    "## Let us plot the number attempts on one of the y-axis, while on the other, we plot\n",
    "## the number it took on average to hash using Wesolowski's hash to BQForm construction\n",
    "# Create some mock data\n",
    "t = np.array(bitLengths)\n",
    "data1 = measuredTimes ##time to hash on average\n",
    "data2 = measuredAttempts ##number of attempts\n",
    "print(t,len(data1))\n",
    "\n",
    "fig, ax1 = plt.subplots()\n",
    "\n",
    "color = 'tab:red'\n",
    "ax1.set_xlabel('$\\log_2(|\\Delta|)$')\n",
    "ax1.set_ylabel('time (sec)', color=color)\n",
    "ax1.plot(t, data1, color=color)\n",
    "ax1.tick_params(axis='y', labelcolor=color)\n",
    "ax1.set_yscale('log')\n",
    "\n",
    "ax2 = ax1.twinx()  # instantiate a second axes that shares the same x-axis\n",
    "\n",
    "color = 'tab:blue'\n",
    "ax2.set_ylabel('attempts', color=color)  # we already handled the x-label with ax1\n",
    "ax2.plot(t, data2, color=color)\n",
    "ax2.tick_params(axis='y', labelcolor=color)\n",
    "ax2.set_yscale('log')\n",
    "\n",
    "fig.tight_layout()  # otherwise the right y-label is slightly clipped\n",
    "plt.savefig(\"./Figures/performanceWesolowskiTimevsAttempts.pdf\")\n",
    "plt.show()"
   ]
  },
  {
   "cell_type": "code",
   "execution_count": 20,
   "id": "3b6af8ed",
   "metadata": {},
   "outputs": [
    {
     "name": "stdout",
     "output_type": "stream",
     "text": [
      "0\n"
     ]
    }
   ],
   "source": [
    "print(len(primes))"
   ]
  },
  {
   "cell_type": "code",
   "execution_count": 82,
   "id": "98ce0ab0",
   "metadata": {},
   "outputs": [
    {
     "name": "stdout",
     "output_type": "stream",
     "text": [
      "coefficient of determination: 0.9180938774040386\n",
      "intercept: -0.00024761233956385894\n",
      "slope: [1.6918192e-05]\n",
      "predicted response:\n",
      "[[2.30787318e-05]\n",
      " [3.99969238e-05]\n",
      " [5.69151158e-05]\n",
      " [7.38333077e-05]\n",
      " [9.07514997e-05]\n",
      " [1.07669692e-04]\n",
      " [1.24587884e-04]\n",
      " [1.41506076e-04]\n",
      " [1.58424268e-04]\n",
      " [1.75342460e-04]\n",
      " [1.92260651e-04]\n",
      " [2.09178843e-04]\n",
      " [2.26097035e-04]\n",
      " [2.43015227e-04]\n",
      " [2.59933419e-04]\n",
      " [2.76851611e-04]\n",
      " [2.93769803e-04]\n",
      " [3.10687995e-04]\n",
      " [3.27606187e-04]\n",
      " [3.44524379e-04]\n",
      " [3.61442571e-04]\n",
      " [3.78360763e-04]\n",
      " [3.95278955e-04]\n",
      " [4.12197147e-04]\n",
      " [4.29115339e-04]\n",
      " [4.46033531e-04]\n",
      " [4.62951723e-04]\n",
      " [4.79869915e-04]\n",
      " [4.96788107e-04]\n",
      " [5.13706299e-04]\n",
      " [5.30624491e-04]\n",
      " [5.47542683e-04]\n",
      " [5.64460875e-04]\n",
      " [5.81379067e-04]\n",
      " [5.98297259e-04]\n",
      " [6.15215451e-04]\n",
      " [6.32133643e-04]\n",
      " [6.49051834e-04]\n",
      " [6.65970026e-04]\n",
      " [6.82888218e-04]\n",
      " [6.99806410e-04]\n",
      " [7.16724602e-04]\n",
      " [7.33642794e-04]\n",
      " [7.50560986e-04]\n",
      " [7.67479178e-04]\n",
      " [7.84397370e-04]\n",
      " [8.01315562e-04]\n",
      " [8.18233754e-04]\n",
      " [8.35151946e-04]\n",
      " [8.52070138e-04]\n",
      " [8.68988330e-04]\n",
      " [8.85906522e-04]\n",
      " [9.02824714e-04]\n",
      " [9.19742906e-04]\n",
      " [9.36661098e-04]\n",
      " [9.53579290e-04]\n",
      " [9.70497482e-04]\n",
      " [9.87415674e-04]\n",
      " [1.00433387e-03]\n",
      " [1.02125206e-03]\n",
      " [1.03817025e-03]\n",
      " [1.05508844e-03]\n",
      " [1.07200663e-03]\n",
      " [1.08892483e-03]]\n",
      "coefficient of determination: 0.9218147461926185\n",
      "intercept: -0.00033477472221895037\n",
      "slope: [1.99956266e-05]\n"
     ]
    },
    {
     "data": {
      "image/png": "[encoded data removed]",
      "text/plain": [
       "<Figure size 640x480 with 1 Axes>"
      ]
     },
     "metadata": {},
     "output_type": "display_data"
    }
   ],
   "source": [
    "## Linear regression for the running time\n",
    "## Useful link for Linear regression in Python\n",
    "## Wesolowski linear regression\n",
    "x = np.array(bitLengths).reshape((-1, 1))\n",
    "y = np.array(measuredTimes)\n",
    "model = LinearRegression()\n",
    "model.fit(x, y)\n",
    "model = LinearRegression().fit(x, y)\n",
    "r_sq = model.score(x, y)\n",
    "print(f\"coefficient of determination: {r_sq}\")\n",
    "print(f\"intercept: {model.intercept_}\")\n",
    "print(f\"slope: {model.coef_}\")\n",
    "y_pred = model.intercept_ + model.coef_ * x\n",
    "print(f\"predicted response:\\n{y_pred}\")\n",
    "\n",
    "##CSIDHash linear regression\n",
    "xCS = np.array(bitLengthsCSIDH).reshape((-1, 1))\n",
    "yCS = np.array(measuredTimesCSIDH)\n",
    "modelCS = LinearRegression()\n",
    "modelCS.fit(xCS, yCS)\n",
    "modelCS = LinearRegression().fit(xCS, yCS)\n",
    "rCS_sq = modelCS.score(xCS, yCS)\n",
    "print(f\"coefficient of determination: {rCS_sq}\")\n",
    "print(f\"intercept: {modelCS.intercept_}\")\n",
    "print(f\"slope: {modelCS.coef_}\")\n",
    "yCS_pred = modelCS.intercept_ + modelCS.coef_ * xCS\n",
    "\n",
    "\n",
    "\n",
    "\n",
    "xNew = np.array([i for i in range(128,4097,128)]).reshape((-1, 1))\n",
    "y_pred = model.intercept_ + model.coef_ * xNew\n",
    "xNewCS = np.array([i for i in range(128,4097,128)]).reshape((-1, 1))\n",
    "yCS_pred = modelCS.intercept_ + modelCS.coef_ * xNew\n",
    "\n",
    "plt.plot(xNew,y_pred,color='red', label='Wesolowski Hash')\n",
    "plt.plot(xNew,yCS_pred,color='blue',label='CSIDH Hash')\n",
    "plt.legend()\n",
    "plt.xlabel('$\\log_2(|\\Delta|)$')\n",
    "plt.ylabel('time (sec)')\n",
    "plt.tight_layout()\n",
    "plt.savefig(\"./Figures/hashFunctionRunningTimes.pdf\")\n",
    "plt.show()"
   ]
  },
  {
   "cell_type": "code",
   "execution_count": 278,
   "id": "fd201f8a",
   "metadata": {},
   "outputs": [
    {
     "data": {
      "text/plain": [
       "1000026"
      ]
     },
     "execution_count": 278,
     "metadata": {},
     "output_type": "execute_result"
    }
   ],
   "source": [
    "len(primes)"
   ]
  },
  {
   "cell_type": "code",
   "execution_count": 117,
   "id": "e590e790",
   "metadata": {},
   "outputs": [
    {
     "name": "stdout",
     "output_type": "stream",
     "text": [
      "[256]\n"
     ]
    }
   ],
   "source": [
    "print(xNew[1])"
   ]
  },
  {
   "cell_type": "code",
   "execution_count": 64,
   "id": "606d7429",
   "metadata": {},
   "outputs": [
    {
     "name": "stderr",
     "output_type": "stream",
     "text": [
      "100%|███████████████████████████████████████████| 10/10 [00:00<00:00, 83.41it/s]\n"
     ]
    },
    {
     "name": "stdout",
     "output_type": "stream",
     "text": [
      "256 -bit random prime generation time on average: 0.0007810831069946289 seconds\n"
     ]
    },
    {
     "name": "stderr",
     "output_type": "stream",
     "text": [
      "100%|███████████████████████████████████████████| 10/10 [00:00<00:00, 15.86it/s]\n"
     ]
    },
    {
     "name": "stdout",
     "output_type": "stream",
     "text": [
      "512 -bit random prime generation time on average: 0.0049923181533813475 seconds\n"
     ]
    },
    {
     "name": "stderr",
     "output_type": "stream",
     "text": [
      "100%|███████████████████████████████████████████| 10/10 [00:01<00:00,  6.05it/s]\n"
     ]
    },
    {
     "name": "stdout",
     "output_type": "stream",
     "text": [
      "768 -bit random prime generation time on average: 0.008315420150756836 seconds\n"
     ]
    },
    {
     "name": "stderr",
     "output_type": "stream",
     "text": [
      "100%|███████████████████████████████████████████| 10/10 [00:04<00:00,  2.18it/s]\n"
     ]
    },
    {
     "name": "stdout",
     "output_type": "stream",
     "text": [
      "1024 -bit random prime generation time on average: 0.03401541709899902 seconds\n"
     ]
    },
    {
     "name": "stderr",
     "output_type": "stream",
     "text": [
      "100%|███████████████████████████████████████████| 10/10 [00:06<00:00,  1.58it/s]\n"
     ]
    },
    {
     "name": "stdout",
     "output_type": "stream",
     "text": [
      "1280 -bit random prime generation time on average: 0.05448217391967773 seconds\n"
     ]
    },
    {
     "name": "stderr",
     "output_type": "stream",
     "text": [
      "100%|███████████████████████████████████████████| 10/10 [00:18<00:00,  1.83s/it]\n"
     ]
    },
    {
     "name": "stdout",
     "output_type": "stream",
     "text": [
      "1536 -bit random prime generation time on average: 0.05331580638885498 seconds\n"
     ]
    },
    {
     "name": "stderr",
     "output_type": "stream",
     "text": [
      "100%|███████████████████████████████████████████| 10/10 [00:31<00:00,  3.17s/it]\n"
     ]
    },
    {
     "name": "stdout",
     "output_type": "stream",
     "text": [
      "1792 -bit random prime generation time on average: 0.08035650253295898 seconds\n"
     ]
    },
    {
     "name": "stderr",
     "output_type": "stream",
     "text": [
      "100%|███████████████████████████████████████████| 10/10 [00:36<00:00,  3.68s/it]\n"
     ]
    },
    {
     "name": "stdout",
     "output_type": "stream",
     "text": [
      "2048 -bit random prime generation time on average: 0.25159850120544436 seconds\n"
     ]
    },
    {
     "name": "stderr",
     "output_type": "stream",
     "text": [
      "100%|███████████████████████████████████████████| 10/10 [01:44<00:00, 10.40s/it]"
     ]
    },
    {
     "name": "stdout",
     "output_type": "stream",
     "text": [
      "2304 -bit random prime generation time on average: 1.3256738901138305 seconds\n"
     ]
    },
    {
     "name": "stderr",
     "output_type": "stream",
     "text": [
      "\n"
     ]
    }
   ],
   "source": [
    "## How much time it takes to uniformly random generate a j-bit random prime?\n",
    "## Likely this operation is our biggest bottleneck in our proposed hash functions\n",
    "howManyTimes = 10\n",
    "bitLengths = [256*i for i in range(1,10)]\n",
    "measuredPrimeGensTimes = np.zeros((len(bitLengths),howManyTimes))\n",
    "cnt = 0\n",
    "for j in bitLengths: \n",
    "    for i in tqdm(range(howManyTimes)):\n",
    "        start_time = time.time()\n",
    "        libnum.generate_prime(j,30)\n",
    "        end_time = time.time()\n",
    "        measuredPrimeGensTimes[cnt][i]=end_time-start_time\n",
    "    cnt+=1\n",
    "    print(j,\"-bit random prime generation time on average:\",(end_time-start_time)/howManyTimes, \"seconds\")"
   ]
  },
  {
   "cell_type": "code",
   "execution_count": 65,
   "id": "7c3a6c25",
   "metadata": {},
   "outputs": [
    {
     "data": {
      "image/png": "[encoded data removed]",
      "text/plain": [
       "<Figure size 640x480 with 1 Axes>"
      ]
     },
     "metadata": {},
     "output_type": "display_data"
    }
   ],
   "source": [
    "means = [np.mean(measuredPrimeGensTimes[i]) for i in range(len(bitLengths))]\n",
    "stds = [np.std(measuredPrimeGensTimes[i]) for i in range(len(bitLengths))]\n",
    "#writtenBitLengths = [\"128\",\"256\",\"512\",\"1024\"]\n",
    "\n",
    "fig, ax = plt.subplots()\n",
    "ax.bar(bitLengths, means, yerr=stds, align='center', alpha=0.5, ecolor='black', capsize=10)\n",
    "ax.set_ylabel('time (sec)')\n",
    "ax.set_xlabel('bit length of the prime')\n",
    "ax.set_xticks(bitLengths)\n",
    "#ax.set_xticklabels(writtenBitLengths)\n",
    "ax.yaxis.grid(True)\n",
    "ax.set_yscale('log')\n",
    "#ax.set_xscale('log')\n",
    "\n",
    "from matplotlib.ticker import ScalarFormatter\n",
    "for axis in [ax.xaxis, ax.yaxis]:\n",
    "    axis.set_major_formatter(ScalarFormatter())\n",
    "\n",
    "# Save the figure and show\n",
    "plt.tight_layout()\n",
    "plt.savefig('./Figures/primeGenTimes.pdf')\n",
    "plt.show()"
   ]
  },
  {
   "cell_type": "code",
   "execution_count": 75,
   "id": "8c6507ed",
   "metadata": {},
   "outputs": [
    {
     "name": "stderr",
     "output_type": "stream",
     "text": [
      "100%|██████████████████████████████████████| 100/100 [00:00<00:00, 27546.99it/s]\n"
     ]
    },
    {
     "name": "stdout",
     "output_type": "stream",
     "text": [
      "256 -bit class group opeartion time on average: 2.5033950805664064e-07 seconds\n"
     ]
    },
    {
     "name": "stderr",
     "output_type": "stream",
     "text": [
      "100%|██████████████████████████████████████| 100/100 [00:00<00:00, 29808.14it/s]\n"
     ]
    },
    {
     "name": "stdout",
     "output_type": "stream",
     "text": [
      "512 -bit class group opeartion time on average: 3.1948089599609377e-07 seconds\n"
     ]
    },
    {
     "name": "stderr",
     "output_type": "stream",
     "text": [
      "100%|██████████████████████████████████████| 100/100 [00:00<00:00, 39416.45it/s]\n"
     ]
    },
    {
     "name": "stdout",
     "output_type": "stream",
     "text": [
      "768 -bit class group opeartion time on average: 2.09808349609375e-07 seconds\n"
     ]
    },
    {
     "name": "stderr",
     "output_type": "stream",
     "text": [
      "100%|██████████████████████████████████████| 100/100 [00:00<00:00, 32658.29it/s]\n"
     ]
    },
    {
     "name": "stdout",
     "output_type": "stream",
     "text": [
      "1024 -bit class group opeartion time on average: 2.6226043701171877e-07 seconds\n"
     ]
    },
    {
     "name": "stderr",
     "output_type": "stream",
     "text": [
      "100%|██████████████████████████████████████| 100/100 [00:00<00:00, 27360.10it/s]\n"
     ]
    },
    {
     "name": "stdout",
     "output_type": "stream",
     "text": [
      "1280 -bit class group opeartion time on average: 3.3140182495117185e-07 seconds\n"
     ]
    },
    {
     "name": "stderr",
     "output_type": "stream",
     "text": [
      "100%|██████████████████████████████████████| 100/100 [00:00<00:00, 22686.63it/s]\n"
     ]
    },
    {
     "name": "stdout",
     "output_type": "stream",
     "text": [
      "1536 -bit class group opeartion time on average: 3.8862228393554685e-07 seconds\n"
     ]
    },
    {
     "name": "stderr",
     "output_type": "stream",
     "text": [
      "100%|██████████████████████████████████████| 100/100 [00:00<00:00, 20010.99it/s]\n"
     ]
    },
    {
     "name": "stdout",
     "output_type": "stream",
     "text": [
      "1792 -bit class group opeartion time on average: 4.6253204345703124e-07 seconds\n"
     ]
    },
    {
     "name": "stderr",
     "output_type": "stream",
     "text": [
      "100%|██████████████████████████████████████| 100/100 [00:00<00:00, 16308.19it/s]\n"
     ]
    },
    {
     "name": "stdout",
     "output_type": "stream",
     "text": [
      "2048 -bit class group opeartion time on average: 5.507469177246094e-07 seconds\n"
     ]
    },
    {
     "name": "stderr",
     "output_type": "stream",
     "text": [
      "100%|██████████████████████████████████████| 100/100 [00:00<00:00, 13896.25it/s]"
     ]
    },
    {
     "name": "stdout",
     "output_type": "stream",
     "text": [
      "2304 -bit class group opeartion time on average: 6.604194641113281e-07 seconds\n"
     ]
    },
    {
     "name": "stderr",
     "output_type": "stream",
     "text": [
      "\n"
     ]
    }
   ],
   "source": [
    "## How much time it takes to compute the class group operation?\n",
    "howManyTimes = 100\n",
    "bitLengths = [256*i for i in range(1,10)]\n",
    "measuredPrimeGensTimes = np.zeros((len(bitLengths),howManyTimes))\n",
    "cnt = 0\n",
    "for j in bitLengths:\n",
    "    discriminant =0\n",
    "    while discriminant%4!=3:\n",
    "        discriminant = libnum.generate_prime(j,30)\n",
    "    identityForm = BQuadForm(1,1, disc=-discriminant)\n",
    "    random1Form = identityForm.__mul__(identityForm)\n",
    "    random2Form = random1Form.__mul__(random1Form)\n",
    "    for i in tqdm(range(howManyTimes)):\n",
    "        start_time = time.time()\n",
    "        random1Form = random1Form.__mul__(random2Form)\n",
    "        end_time = time.time()\n",
    "        measuredPrimeGensTimes[cnt][i]=end_time-start_time\n",
    "    cnt+=1\n",
    "    print(j,\"-bit class group opeartion time on average:\",(end_time-start_time)/howManyTimes, \"seconds\")"
   ]
  },
  {
   "cell_type": "code",
   "execution_count": 76,
   "id": "968599f9",
   "metadata": {},
   "outputs": [
    {
     "data": {
      "image/png": "[encoded data removed]",
      "text/plain": [
       "<Figure size 640x480 with 1 Axes>"
      ]
     },
     "metadata": {},
     "output_type": "display_data"
    }
   ],
   "source": [
    "means = [np.mean(measuredPrimeGensTimes[i]) for i in range(len(bitLengths))]\n",
    "stds = [np.std(measuredPrimeGensTimes[i]) for i in range(len(bitLengths))]\n",
    "#writtenBitLengths = [\"128\",\"256\",\"512\",\"1024\"]\n",
    "\n",
    "fig, ax = plt.subplots()\n",
    "ax.bar(bitLengths, means, yerr=stds, align='center', alpha=0.5, ecolor='black', capsize=10)\n",
    "ax.set_ylabel('time (sec)')\n",
    "ax.set_xlabel('bit length of the discriminant')\n",
    "ax.set_xticks(bitLengths)\n",
    "#ax.set_xticklabels(writtenBitLengths)\n",
    "ax.yaxis.grid(True)\n",
    "#ax.set_yscale('log')\n",
    "#ax.set_xscale('log')\n",
    "\n",
    "from matplotlib.ticker import ScalarFormatter\n",
    "for axis in [ax.xaxis, ax.yaxis]:\n",
    "    axis.set_major_formatter(ScalarFormatter())\n",
    "\n",
    "# Save the figure and show\n",
    "plt.tight_layout()\n",
    "plt.savefig('./Figures/classGroupGenTimes.pdf')\n",
    "plt.show()"
   ]
  },
  {
   "cell_type": "code",
   "execution_count": 90,
   "id": "5e694ce3",
   "metadata": {},
   "outputs": [],
   "source": [
    "## math.log(q, N) * (((Nt + 1) >> 1) << j)\n",
    "N = 15293081873211767368008098429801431702283953435860199762548849392729924449022989580446715984539492948078961126718377261636114752088759037662583404222552656421516118242870155513277445799253988599903013203035456980522029444518708424647262033039075005711224960492468690967906200650878912999528261427142481809365636558292208635816169529602354261786624\n",
    "q = 8907764702899836856861518105858962034835186183269209371173953042495831303430024737236370803954417432685375526017914344149331291906592349\n",
    "Nt = 1716825980847164958446877555384524634049973812307598231694904007018070894657547258852477254113994450087022779881366298524741375265673745340701712983931692829205728816237365260124335195199629850355376301929780435\n",
    "j = 451"
   ]
  },
  {
   "cell_type": "code",
   "execution_count": 95,
   "id": "aeed80e6",
   "metadata": {},
   "outputs": [
    {
     "data": {
      "text/plain": [
       "Decimal('1.960176535494295107594913367E+345')"
      ]
     },
     "execution_count": 95,
     "metadata": {},
     "output_type": "execute_result"
    }
   ],
   "source": [
    "Decimal(math.log(q, N)) * Decimal(((Nt + 1) >> 1) << j)"
   ]
  },
  {
   "cell_type": "code",
   "execution_count": null,
   "id": "649b2ae7",
   "metadata": {},
   "outputs": [],
   "source": []
  }
 ],
 "metadata": {
  "kernelspec": {
   "display_name": "Python 3 (ipykernel)",
   "language": "python",
   "name": "python3"
  },
  "language_info": {
   "codemirror_mode": {
    "name": "ipython",
    "version": 3
   },
   "file_extension": ".py",
   "mimetype": "text/x-python",
   "name": "python",
   "nbconvert_exporter": "python",
   "pygments_lexer": "ipython3",
   "version": "3.9.12"
  }
 },
 "nbformat": 4,
 "nbformat_minor": 5
}
